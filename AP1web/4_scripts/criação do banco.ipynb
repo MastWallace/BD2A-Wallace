{
 "cells": [
  {
   "cell_type": "code",
   "execution_count": 1,
   "metadata": {},
   "outputs": [],
   "source": [
    "from sqlalchemy import create_engine \n",
    "engine = create_engine('sqlite:///banco.db', echo=True)"
   ]
  },
  {
   "cell_type": "code",
   "execution_count": 2,
   "metadata": {},
   "outputs": [],
   "source": [
    "import pandas as pd\n",
    "df = pd.read_csv('2_insights./base_pichau_pronta.csv')"
   ]
  },
  {
   "cell_type": "code",
   "execution_count": 3,
   "metadata": {},
   "outputs": [
    {
     "name": "stdout",
     "output_type": "stream",
     "text": [
      "2024-11-24 20:03:59,409 INFO sqlalchemy.engine.Engine BEGIN (implicit)\n",
      "2024-11-24 20:03:59,413 INFO sqlalchemy.engine.Engine PRAGMA main.table_info(\"dados\")\n",
      "2024-11-24 20:03:59,415 INFO sqlalchemy.engine.Engine [raw sql] ()\n",
      "2024-11-24 20:03:59,416 INFO sqlalchemy.engine.Engine PRAGMA temp.table_info(\"dados\")\n",
      "2024-11-24 20:03:59,417 INFO sqlalchemy.engine.Engine [raw sql] ()\n",
      "2024-11-24 20:03:59,418 INFO sqlalchemy.engine.Engine \n",
      "CREATE TABLE dados (\n",
      "\t\"nome do produto\" TEXT, \n",
      "\tprocessador TEXT, \n",
      "\t\"memória ram\" TEXT, \n",
      "\tarmazenamento TEXT, \n",
      "\t\"placa de video\" TEXT, \n",
      "\tprecos FLOAT, \n",
      "\tdesconto TEXT, \n",
      "\t\"valor parcelado\" TEXT\n",
      ")\n",
      "\n",
      "\n",
      "2024-11-24 20:03:59,420 INFO sqlalchemy.engine.Engine [no key 0.00183s] ()\n",
      "2024-11-24 20:03:59,429 INFO sqlalchemy.engine.Engine INSERT INTO dados (\"nome do produto\", processador, \"memória ram\", armazenamento, \"placa de video\", precos, desconto, \"valor parcelado\") VALUES (?, ?, ?, ?, ?, ?, ?, ?)\n",
      "2024-11-24 20:03:59,431 INFO sqlalchemy.engine.Engine [generated in 0.00183s] [('Computador Gamer Pichau', ' AMD Ryzen 5 2400G', ' 16GB DDR4', ' SSD 480GB', 'Sem placa de video', 1520.0, 'no PIX com 15% desconto', '  12x de R$ 149,02 '), ('Computador Gamer Pichau', ' AMD Ryzen 5 2400G', ' 16GB DDR4', ' SSD 240GB', 'Sem placa de video', 1450.0, 'no PIX com 15% desconto', '  12x de R$ 142,16 '), ('Computador Gamer Pichau', ' AMD Ryzen 5 2400G', ' 8GB DDR4', ' SSD 240GB', 'Sem placa de video', 1299.99, 'no PIX com 15% desconto', '  12x de R$ 127,45 '), ('Computador Gamer Pichau', ' AMD Ryzen 5 2400G', ' 8GB DDR4', ' SSD 120GB', 'Sem placa de video', 1259.99, 'no PIX com 15% desconto', '  12x de R$ 123,53 '), ('PC Gamer Pichau Sigyn III', ' Intel i5-10400F', ' 16GB DDR4', ' SSD 240GB', ' GeForce GTX 1060 3GB', 2648.31, 'no PIX com 15% desconto', '  12x de R$ 259,64 '), ('PC Gamer Mancer', ' Intel i3-14100', ' 16GB DDR4', ' SSD M.2 480GB', ' UHD 730', 2489.96, 'no PIX com 15% desconto', '  12x de R$ 244,11 '), ('PC Gamer Pichau', ' Intel i3-12100', ' 16GB DDR4', ' SSD M.2 480GB', ' UHD 730', 2199.97, 'no PIX com 15% desconto', '  12x de R$ 215,68 '), ('PC Gamer Pichau Crisipo', ' AMD Ryzen 5 5600X', ' 16GB DDR4', ' SSD 480GB', ' Radeon RX 6750 XT 12GB', 4872.55, 'no PIX com 15% desconto', '  12x de R$ 477,70 ')  ... displaying 10 of 36 total bound parameter sets ...  ('PC Gamer Pichau Cicreu', ' AMD Ryzen 3 4350GE', ' 8GB DDR4', ' SSD 240GB', 'Sem placa de video', 1429.99, 'no PIX com 15% desconto', '  12x de R$ 140,20 '), ('PC Gamer Pichau Ramiel VI', ' Intel i5-12400F', ' 16GB DDR5', ' SSD M.2 480GB', ' GeForce RTX 4060 8GB', 4699.96, 'no PIX com 15% desconto', '  12x de R$ 460,78 ')]\n",
      "2024-11-24 20:03:59,434 INFO sqlalchemy.engine.Engine COMMIT\n"
     ]
    },
    {
     "data": {
      "text/plain": [
       "36"
      ]
     },
     "execution_count": 3,
     "metadata": {},
     "output_type": "execute_result"
    }
   ],
   "source": [
    "df.to_sql('dados', con=engine, if_exists='replace', index=False)  "
   ]
  },
  {
   "cell_type": "code",
   "execution_count": 4,
   "metadata": {},
   "outputs": [
    {
     "name": "stdout",
     "output_type": "stream",
     "text": [
      "2024-11-24 20:04:03,285 INFO sqlalchemy.engine.Engine BEGIN (implicit)\n",
      "2024-11-24 20:04:03,286 INFO sqlalchemy.engine.Engine PRAGMA main.table_info(\"SELECT * FROM dados\")\n",
      "2024-11-24 20:04:03,288 INFO sqlalchemy.engine.Engine [raw sql] ()\n",
      "2024-11-24 20:04:03,289 INFO sqlalchemy.engine.Engine PRAGMA temp.table_info(\"SELECT * FROM dados\")\n",
      "2024-11-24 20:04:03,290 INFO sqlalchemy.engine.Engine [raw sql] ()\n",
      "2024-11-24 20:04:03,292 INFO sqlalchemy.engine.Engine SELECT * FROM dados\n",
      "2024-11-24 20:04:03,292 INFO sqlalchemy.engine.Engine [raw sql] ()\n",
      "2024-11-24 20:04:03,296 INFO sqlalchemy.engine.Engine ROLLBACK\n"
     ]
    }
   ],
   "source": [
    "df_lido = pd.read_sql('SELECT * FROM dados', con=engine)"
   ]
  },
  {
   "cell_type": "code",
   "execution_count": 8,
   "metadata": {},
   "outputs": [
    {
     "name": "stdout",
     "output_type": "stream",
     "text": [
      "('Computador Gamer Pichau', ' AMD Ryzen 5 2400G', ' 16GB DDR4', ' SSD 480GB', 'Sem placa de video', 1520.0, 'no PIX com 15% desconto', '  12x de R$ 149,02 ')\n",
      "('Computador Gamer Pichau', ' AMD Ryzen 5 2400G', ' 16GB DDR4', ' SSD 240GB', 'Sem placa de video', 1450.0, 'no PIX com 15% desconto', '  12x de R$ 142,16 ')\n",
      "('Computador Gamer Pichau', ' AMD Ryzen 5 2400G', ' 8GB DDR4', ' SSD 240GB', 'Sem placa de video', 1299.99, 'no PIX com 15% desconto', '  12x de R$ 127,45 ')\n",
      "('Computador Gamer Pichau', ' AMD Ryzen 5 2400G', ' 8GB DDR4', ' SSD 120GB', 'Sem placa de video', 1259.99, 'no PIX com 15% desconto', '  12x de R$ 123,53 ')\n",
      "('PC Gamer Pichau Sigyn III', ' Intel i5-10400F', ' 16GB DDR4', ' SSD 240GB', ' GeForce GTX 1060 3GB', 2648.31, 'no PIX com 15% desconto', '  12x de R$ 259,64 ')\n",
      "('PC Gamer Mancer', ' Intel i3-14100', ' 16GB DDR4', ' SSD M.2 480GB', ' UHD 730', 2489.96, 'no PIX com 15% desconto', '  12x de R$ 244,11 ')\n",
      "('PC Gamer Pichau', ' Intel i3-12100', ' 16GB DDR4', ' SSD M.2 480GB', ' UHD 730', 2199.97, 'no PIX com 15% desconto', '  12x de R$ 215,68 ')\n",
      "('PC Gamer Pichau Crisipo', ' AMD Ryzen 5 5600X', ' 16GB DDR4', ' SSD 480GB', ' Radeon RX 6750 XT 12GB', 4872.55, 'no PIX com 15% desconto', '  12x de R$ 477,70 ')\n",
      "('PC Gamer Pichau Creteu', ' AMD Ryzen 5 5600X', ' 16GB DDR4', ' SSD 480GB', ' GeForce RTX 4060 8GB', 6634.08, 'no PIX com 15% desconto', '  12x de R$ 650,40 ')\n",
      "('PC Gamer Pichau', ' Intel i3-12100F', ' 8GB DDR4', ' SSD 240GB', ' GeForce GTX 1060 3GB', 2459.98, 'no PIX com 15% desconto', '  12x de R$ 241,17 ')\n",
      "('PC Gamer Pichau Afrodite', ' Intel i5-13400F', ' 16GB DDR4', ' SSD M.2 480GB', ' Radeon RX 5600 6GB', 3799.86, 'no PIX com 15% desconto', '  12x de R$ 372,54 ')\n",
      "('PC Gamer Completo Pichau Cicreu VI', ' AMD Ryzen 3 4350GE', ' 16GB DDR4', ' SSD 480GB   ', 'Sem placa de video', 2589.99, 'no PIX com 15% desconto', '  12x de R$ 253,92 ')\n",
      "('PC Gamer Completo Pichau Cicreu V', ' AMD Ryzen 3 4350GE', ' 16GB DDR4', ' SSD 480GB  ', 'Sem placa de video', 2089.98, 'no PIX com 15% desconto', '  12x de R$ 204,90 ')\n",
      "('PC Gamer Completo Mancer Feácio VI', ' AMD Ryzen 3 5300G', ' 16GB DDR4', ' SSD 480GB   ', 'Sem placa de video', 2889.98, 'no PIX com 15% desconto', '  12x de R$ 283,33 ')\n",
      "('PC Gamer Completo Mancer Feácio V', ' AMD Ryzen 3 5300G', ' 16GB DDR4', ' SSD 480GB  ', 'Sem placa de video', 2339.98, 'no PIX com 15% desconto', '  12x de R$ 229,41 ')\n",
      "('PC Gamer Pichau Flegias III', ' AMD Ryzen 5 2400G', ' 16GB DDR4', ' SSD 480GB', 'Sem placa de video', 1539.99, 'no PIX com 15% desconto', '  12x de R$ 150,98 ')\n",
      "('PC Gamer Completo Mancer Krampus II', ' AMD Ryzen 5 5500', ' 16GB DDR4', ' SSD 480GB  ', ' GeForce RTX 3060 12GB', 4299.98, 'no PIX com 15% desconto', '  12x de R$ 421,57 ')\n",
      "('PC Gamer Pichau Flegias II', ' AMD Ryzen 5 2400G', ' 16GB DDR4', ' SSD 240GB', 'Sem placa de video', 1449.99, 'no PIX com 15% desconto', '  12x de R$ 142,16 ')\n",
      "('PC Gamer Pichau Flegias', ' AMD Ryzen 5 2400G', ' 8GB DDR4', ' SSD 240GB', 'Sem placa de video', 1389.95, 'no PIX com 15% desconto', '  12x de R$ 136,27 ')\n",
      "('PC Gamer Mancer Feácio IV', ' AMD Ryzen 3 5300G', ' 16GB DDR4', ' SSD M.2 480GB', 'Sem placa de video', 1899.98, 'no PIX com 15% desconto', '  12x de R$ 186,27 ')\n",
      "('PC Gamer Mancer GM-012', ' Intel Core i7', ' 16GB DDR3', ' SSD 480GB', ' GeForce RTX 3050 6GB', 2569.98, 'no PIX com 15% desconto', '  12x de R$ 251,96 ')\n",
      "('PC Gamer Mancer Feácio III', ' AMD Ryzen 3 5300G', ' 16GB DDR4', ' SSD 480GB', 'Sem placa de video', 1879.99, 'no PIX com 15% desconto', '  12x de R$ 184,31 ')\n",
      "('PC Gamer Mancer GM-011', ' Intel Core i7', ' 16GB DDR3', ' SSD 240GB', ' GeForce GTX 1060 3GB', 1909.96, 'no PIX com 15% desconto', '  12x de R$ 187,25 ')\n",
      "('PC Gamer Mancer GM-010', ' Intel Core i7', ' 16GB DDR3', ' SSD 480GB', ' GeForce GTX 1060 6GB', 2219.97, 'no PIX com 15% desconto', '  12x de R$ 217,64 ')\n",
      "('PC Gamer Mancer Feácio II', ' AMD Ryzen 3 5300G', ' 16GB DDR4', ' SSD 240GB', 'Sem placa de video', 1749.99, 'no PIX com 15% desconto', '  12x de R$ 171,57 ')\n",
      "('Computador Gamer Pichau Catreu III', ' AMD Ryzen 3 5300G', ' 16GB DDR4', ' SSD 480GB', 'Sem placa de video', 1936.36, 'no PIX com 15% desconto', '  12x de R$ 189,84 ')\n",
      "('PC Gamer Mancer Feácio', ' AMD Ryzen 3 5300G', ' 8GB DDR4', ' SSD 240GB', 'Sem placa de video', 1629.98, 'no PIX com 15% desconto', '  12x de R$ 159,80 ')\n",
      "('PC Gamer Mancer GM-009', ' Intel Core i5', ' 16GB DDR3', ' SSD 480GB', ' GeForce GTX 1060 6GB', 2099.98, 'no PIX com 15% desconto', '  12x de R$ 205,88 ')\n",
      "('PC Gamer Mancer GM-008', ' Intel Core i5', ' 16GB DDR3', ' SSD 240GB', ' GeForce GTX 1060 3GB', 1799.98, 'no PIX com 15% desconto', '  12x de R$ 176,47 ')\n",
      "('Computador Gamer Pichau Catreu II', ' AMD Ryzen 3 5300G', ' 16GB DDR4', ' SSD 240GB', 'Sem placa de video', 1866.25, 'no PIX com 15% desconto', '  12x de R$ 182,97 ')\n",
      "('PC Gamer Pichau Cicreu IV', ' AMD Ryzen 3 4350GE', ' 16GB DDR4', ' SSD M.2 480GB', 'Sem placa de video', 1699.98, 'no PIX com 15% desconto', '  12x de R$ 166,67 ')\n",
      "('PC Gamer Pichau Cicreu III', ' AMD Ryzen 3 4350GE', ' 16GB DDR4', ' SSD 480GB', 'Sem placa de video', 1629.98, 'no PIX com 15% desconto', '  12x de R$ 159,80 ')\n",
      "('PC Gamer Pichau Cicreu II', ' AMD Ryzen 3 4350GE', ' 16GB DDR4', ' SSD 240GB', 'Sem placa de video', 1539.99, 'no PIX com 15% desconto', '  12x de R$ 150,98 ')\n",
      "('PC Gamer Pichau Ramiel VII', ' Intel i5-12400F', ' 16GB DDR5', ' SSD M.2 480GB', ' Radeon RX 6600 8GB', 3859.96, 'no PIX com 15% desconto', '  12x de R$ 378,43 ')\n",
      "('PC Gamer Pichau Cicreu', ' AMD Ryzen 3 4350GE', ' 8GB DDR4', ' SSD 240GB', 'Sem placa de video', 1429.99, 'no PIX com 15% desconto', '  12x de R$ 140,20 ')\n",
      "('PC Gamer Pichau Ramiel VI', ' Intel i5-12400F', ' 16GB DDR5', ' SSD M.2 480GB', ' GeForce RTX 4060 8GB', 4699.96, 'no PIX com 15% desconto', '  12x de R$ 460,78 ')\n"
     ]
    }
   ],
   "source": [
    "import sqlite3\n",
    "\n",
    "# Conectando ao banco de dados\n",
    "conn = sqlite3.connect(\"banco.db\")  # Substitua \"banco.db\" pelo nome correto do seu arquivo de banco de dados\n",
    "cursor = conn.cursor()\n",
    "\n",
    "# Executando a consulta\n",
    "try:\n",
    "    cursor.execute(\"SELECT * FROM dados\")  # Certifique-se de que a tabela 'dados' existe\n",
    "    resultados = cursor.fetchall()\n",
    "\n",
    "    # Exibindo os resultados\n",
    "    for linha in resultados:\n",
    "        print(linha)\n",
    "\n",
    "except sqlite3.Error as e:\n",
    "    print(\"Erro ao executar a consulta:\", e)\n",
    "\n",
    "# Fechando a conexão\n",
    "finally:\n",
    "    conn.close()"
   ]
  }
 ],
 "metadata": {
  "kernelspec": {
   "display_name": "Python 3",
   "language": "python",
   "name": "python3"
  },
  "language_info": {
   "codemirror_mode": {
    "name": "ipython",
    "version": 3
   },
   "file_extension": ".py",
   "mimetype": "text/x-python",
   "name": "python",
   "nbconvert_exporter": "python",
   "pygments_lexer": "ipython3",
   "version": "3.12.2"
  }
 },
 "nbformat": 4,
 "nbformat_minor": 2
}
